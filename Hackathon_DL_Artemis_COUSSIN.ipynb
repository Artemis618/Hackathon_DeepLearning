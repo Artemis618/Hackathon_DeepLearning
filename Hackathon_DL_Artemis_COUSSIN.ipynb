{
  "nbformat": 4,
  "nbformat_minor": 0,
  "metadata": {
    "colab": {
      "name": "Hackathon.ipynb",
      "provenance": [],
      "collapsed_sections": []
    },
    "kernelspec": {
      "name": "python3",
      "display_name": "Python 3"
    },
    "language_info": {
      "name": "python"
    },
    "accelerator": "GPU"
  },
  "cells": [
    {
      "cell_type": "markdown",
      "source": [
        "We start by activating the GPU"
      ],
      "metadata": {
        "id": "qIB8OaXJ9Nem"
      }
    },
    {
      "cell_type": "code",
      "execution_count": 1,
      "metadata": {
        "id": "ImHyGpVp688O"
      },
      "outputs": [],
      "source": [
        "# We check the tensorflow version (only if we work under colab)\n",
        "try:\n",
        "  %tensorflow_version 2.x\n",
        "except Exception:\n",
        "  pass"
      ]
    },
    {
      "cell_type": "code",
      "source": [
        "# We import the librairies\n",
        "from __future__ import absolute_import, division, print_function, unicode_literals\n",
        "\n",
        "# TensorFlow\n",
        "import tensorflow as tf\n",
        "from tensorflow import keras\n",
        "\n",
        "# matplotlib, numpy, pandas and sklearn\n",
        "import matplotlib.pyplot as plt\n",
        "import numpy as np\n",
        "import pandas as pd\n",
        "from google.colab import files\n",
        "import sklearn\n",
        "import io\n",
        "\n",
        "from sklearn import preprocessing\n",
        "\n",
        "# tf.keras\n",
        "from keras.models import Sequential\n",
        "from keras.layers import Dense, Conv2D, Flatten, MaxPooling2D, Dropout\n",
        "from keras.callbacks import ModelCheckpoint\n",
        "from keras.callbacks import EarlyStopping  \n",
        "from keras.models import load_model\n",
        "\n",
        "print(tf.__version__)"
      ],
      "metadata": {
        "id": "rSipZLdT7BWz",
        "colab": {
          "base_uri": "https://localhost:8080/"
        },
        "outputId": "1c532f69-709f-4d64-b14c-2c95f23e2b1f"
      },
      "execution_count": 42,
      "outputs": [
        {
          "output_type": "stream",
          "name": "stdout",
          "text": [
            "2.8.0\n"
          ]
        }
      ]
    },
    {
      "cell_type": "code",
      "source": [
        "# loading dataset\n",
        "uploaded = files.upload()\n",
        "df = pd.read_csv(io.BytesIO(uploaded['heart_train_6.txt']), sep=' ')\n",
        "# shuffle the dataset to improve the results of our futur model\n",
        "df = sklearn.utils.shuffle(df)"
      ],
      "metadata": {
        "id": "BfjWjuG67Eer",
        "colab": {
          "base_uri": "https://localhost:8080/",
          "resources": {
            "http://localhost:8080/nbextensions/google.colab/files.js": {
              "data": "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",
              "ok": true,
              "headers": [
                [
                  "content-type",
                  "application/javascript"
                ]
              ],
              "status": 200,
              "status_text": ""
            }
          },
          "height": 73
        },
        "outputId": "8188aa65-f68e-4d9e-b1c3-d71c1c99c840"
      },
      "execution_count": 3,
      "outputs": [
        {
          "output_type": "display_data",
          "data": {
            "text/html": [
              "\n",
              "     <input type=\"file\" id=\"files-ab8cc68c-ac2c-4f33-878f-9d014d7110c1\" name=\"files[]\" multiple disabled\n",
              "        style=\"border:none\" />\n",
              "     <output id=\"result-ab8cc68c-ac2c-4f33-878f-9d014d7110c1\">\n",
              "      Upload widget is only available when the cell has been executed in the\n",
              "      current browser session. Please rerun this cell to enable.\n",
              "      </output>\n",
              "      <script src=\"/nbextensions/google.colab/files.js\"></script> "
            ],
            "text/plain": [
              "<IPython.core.display.HTML object>"
            ]
          },
          "metadata": {}
        },
        {
          "output_type": "stream",
          "name": "stdout",
          "text": [
            "Saving heart_train_6.txt to heart_train_6.txt\n"
          ]
        }
      ]
    },
    {
      "cell_type": "code",
      "source": [
        "df"
      ],
      "metadata": {
        "colab": {
          "base_uri": "https://localhost:8080/",
          "height": 423
        },
        "id": "BS6jZhR1Cyoa",
        "outputId": "62942b5f-2715-4499-a573-f3c8a8cd5d76"
      },
      "execution_count": 43,
      "outputs": [
        {
          "output_type": "execute_result",
          "data": {
            "text/html": [
              "\n",
              "  <div id=\"df-0fe20d26-2dae-4c98-b002-1c8c26ef922a\">\n",
              "    <div class=\"colab-df-container\">\n",
              "      <div>\n",
              "<style scoped>\n",
              "    .dataframe tbody tr th:only-of-type {\n",
              "        vertical-align: middle;\n",
              "    }\n",
              "\n",
              "    .dataframe tbody tr th {\n",
              "        vertical-align: top;\n",
              "    }\n",
              "\n",
              "    .dataframe thead th {\n",
              "        text-align: right;\n",
              "    }\n",
              "</style>\n",
              "<table border=\"1\" class=\"dataframe\">\n",
              "  <thead>\n",
              "    <tr style=\"text-align: right;\">\n",
              "      <th></th>\n",
              "      <th>66.0</th>\n",
              "      <th>0.0</th>\n",
              "      <th>1.0</th>\n",
              "      <th>150.0</th>\n",
              "      <th>226.0</th>\n",
              "      <th>0.0.1</th>\n",
              "      <th>0.0.2</th>\n",
              "      <th>114.0</th>\n",
              "      <th>0.0.3</th>\n",
              "      <th>2.6</th>\n",
              "      <th>3.0</th>\n",
              "      <th>0.0.4</th>\n",
              "      <th>3.0.1</th>\n",
              "      <th>1</th>\n",
              "    </tr>\n",
              "  </thead>\n",
              "  <tbody>\n",
              "    <tr>\n",
              "      <th>77</th>\n",
              "      <td>70.0</td>\n",
              "      <td>1.0</td>\n",
              "      <td>4.0</td>\n",
              "      <td>145.0</td>\n",
              "      <td>174.0</td>\n",
              "      <td>0.0</td>\n",
              "      <td>0.0</td>\n",
              "      <td>125.0</td>\n",
              "      <td>1.0</td>\n",
              "      <td>2.6</td>\n",
              "      <td>3.0</td>\n",
              "      <td>0.0</td>\n",
              "      <td>7.0</td>\n",
              "      <td>2</td>\n",
              "    </tr>\n",
              "    <tr>\n",
              "      <th>135</th>\n",
              "      <td>42.0</td>\n",
              "      <td>1.0</td>\n",
              "      <td>3.0</td>\n",
              "      <td>120.0</td>\n",
              "      <td>240.0</td>\n",
              "      <td>1.0</td>\n",
              "      <td>0.0</td>\n",
              "      <td>194.0</td>\n",
              "      <td>0.0</td>\n",
              "      <td>0.8</td>\n",
              "      <td>3.0</td>\n",
              "      <td>0.0</td>\n",
              "      <td>7.0</td>\n",
              "      <td>1</td>\n",
              "    </tr>\n",
              "    <tr>\n",
              "      <th>59</th>\n",
              "      <td>37.0</td>\n",
              "      <td>1.0</td>\n",
              "      <td>3.0</td>\n",
              "      <td>130.0</td>\n",
              "      <td>250.0</td>\n",
              "      <td>0.0</td>\n",
              "      <td>0.0</td>\n",
              "      <td>187.0</td>\n",
              "      <td>0.0</td>\n",
              "      <td>3.5</td>\n",
              "      <td>3.0</td>\n",
              "      <td>0.0</td>\n",
              "      <td>3.0</td>\n",
              "      <td>1</td>\n",
              "    </tr>\n",
              "    <tr>\n",
              "      <th>201</th>\n",
              "      <td>51.0</td>\n",
              "      <td>1.0</td>\n",
              "      <td>3.0</td>\n",
              "      <td>100.0</td>\n",
              "      <td>222.0</td>\n",
              "      <td>0.0</td>\n",
              "      <td>0.0</td>\n",
              "      <td>143.0</td>\n",
              "      <td>1.0</td>\n",
              "      <td>1.2</td>\n",
              "      <td>2.0</td>\n",
              "      <td>0.0</td>\n",
              "      <td>3.0</td>\n",
              "      <td>1</td>\n",
              "    </tr>\n",
              "    <tr>\n",
              "      <th>62</th>\n",
              "      <td>41.0</td>\n",
              "      <td>1.0</td>\n",
              "      <td>4.0</td>\n",
              "      <td>110.0</td>\n",
              "      <td>172.0</td>\n",
              "      <td>0.0</td>\n",
              "      <td>2.0</td>\n",
              "      <td>158.0</td>\n",
              "      <td>0.0</td>\n",
              "      <td>0.0</td>\n",
              "      <td>1.0</td>\n",
              "      <td>0.0</td>\n",
              "      <td>7.0</td>\n",
              "      <td>2</td>\n",
              "    </tr>\n",
              "    <tr>\n",
              "      <th>...</th>\n",
              "      <td>...</td>\n",
              "      <td>...</td>\n",
              "      <td>...</td>\n",
              "      <td>...</td>\n",
              "      <td>...</td>\n",
              "      <td>...</td>\n",
              "      <td>...</td>\n",
              "      <td>...</td>\n",
              "      <td>...</td>\n",
              "      <td>...</td>\n",
              "      <td>...</td>\n",
              "      <td>...</td>\n",
              "      <td>...</td>\n",
              "      <td>...</td>\n",
              "    </tr>\n",
              "    <tr>\n",
              "      <th>85</th>\n",
              "      <td>52.0</td>\n",
              "      <td>1.0</td>\n",
              "      <td>4.0</td>\n",
              "      <td>125.0</td>\n",
              "      <td>212.0</td>\n",
              "      <td>0.0</td>\n",
              "      <td>0.0</td>\n",
              "      <td>168.0</td>\n",
              "      <td>0.0</td>\n",
              "      <td>1.0</td>\n",
              "      <td>1.0</td>\n",
              "      <td>2.0</td>\n",
              "      <td>7.0</td>\n",
              "      <td>2</td>\n",
              "    </tr>\n",
              "    <tr>\n",
              "      <th>18</th>\n",
              "      <td>71.0</td>\n",
              "      <td>0.0</td>\n",
              "      <td>3.0</td>\n",
              "      <td>110.0</td>\n",
              "      <td>265.0</td>\n",
              "      <td>1.0</td>\n",
              "      <td>2.0</td>\n",
              "      <td>130.0</td>\n",
              "      <td>0.0</td>\n",
              "      <td>0.0</td>\n",
              "      <td>1.0</td>\n",
              "      <td>1.0</td>\n",
              "      <td>3.0</td>\n",
              "      <td>1</td>\n",
              "    </tr>\n",
              "    <tr>\n",
              "      <th>84</th>\n",
              "      <td>53.0</td>\n",
              "      <td>1.0</td>\n",
              "      <td>4.0</td>\n",
              "      <td>123.0</td>\n",
              "      <td>282.0</td>\n",
              "      <td>0.0</td>\n",
              "      <td>0.0</td>\n",
              "      <td>95.0</td>\n",
              "      <td>1.0</td>\n",
              "      <td>2.0</td>\n",
              "      <td>2.0</td>\n",
              "      <td>2.0</td>\n",
              "      <td>7.0</td>\n",
              "      <td>2</td>\n",
              "    </tr>\n",
              "    <tr>\n",
              "      <th>55</th>\n",
              "      <td>58.0</td>\n",
              "      <td>1.0</td>\n",
              "      <td>3.0</td>\n",
              "      <td>140.0</td>\n",
              "      <td>211.0</td>\n",
              "      <td>1.0</td>\n",
              "      <td>2.0</td>\n",
              "      <td>165.0</td>\n",
              "      <td>0.0</td>\n",
              "      <td>0.0</td>\n",
              "      <td>1.0</td>\n",
              "      <td>0.0</td>\n",
              "      <td>3.0</td>\n",
              "      <td>1</td>\n",
              "    </tr>\n",
              "    <tr>\n",
              "      <th>87</th>\n",
              "      <td>54.0</td>\n",
              "      <td>1.0</td>\n",
              "      <td>2.0</td>\n",
              "      <td>192.0</td>\n",
              "      <td>283.0</td>\n",
              "      <td>0.0</td>\n",
              "      <td>2.0</td>\n",
              "      <td>195.0</td>\n",
              "      <td>0.0</td>\n",
              "      <td>0.0</td>\n",
              "      <td>1.0</td>\n",
              "      <td>1.0</td>\n",
              "      <td>7.0</td>\n",
              "      <td>2</td>\n",
              "    </tr>\n",
              "  </tbody>\n",
              "</table>\n",
              "<p>215 rows × 14 columns</p>\n",
              "</div>\n",
              "      <button class=\"colab-df-convert\" onclick=\"convertToInteractive('df-0fe20d26-2dae-4c98-b002-1c8c26ef922a')\"\n",
              "              title=\"Convert this dataframe to an interactive table.\"\n",
              "              style=\"display:none;\">\n",
              "        \n",
              "  <svg xmlns=\"http://www.w3.org/2000/svg\" height=\"24px\"viewBox=\"0 0 24 24\"\n",
              "       width=\"24px\">\n",
              "    <path d=\"M0 0h24v24H0V0z\" fill=\"none\"/>\n",
              "    <path d=\"M18.56 5.44l.94 2.06.94-2.06 2.06-.94-2.06-.94-.94-2.06-.94 2.06-2.06.94zm-11 1L8.5 8.5l.94-2.06 2.06-.94-2.06-.94L8.5 2.5l-.94 2.06-2.06.94zm10 10l.94 2.06.94-2.06 2.06-.94-2.06-.94-.94-2.06-.94 2.06-2.06.94z\"/><path d=\"M17.41 7.96l-1.37-1.37c-.4-.4-.92-.59-1.43-.59-.52 0-1.04.2-1.43.59L10.3 9.45l-7.72 7.72c-.78.78-.78 2.05 0 2.83L4 21.41c.39.39.9.59 1.41.59.51 0 1.02-.2 1.41-.59l7.78-7.78 2.81-2.81c.8-.78.8-2.07 0-2.86zM5.41 20L4 18.59l7.72-7.72 1.47 1.35L5.41 20z\"/>\n",
              "  </svg>\n",
              "      </button>\n",
              "      \n",
              "  <style>\n",
              "    .colab-df-container {\n",
              "      display:flex;\n",
              "      flex-wrap:wrap;\n",
              "      gap: 12px;\n",
              "    }\n",
              "\n",
              "    .colab-df-convert {\n",
              "      background-color: #E8F0FE;\n",
              "      border: none;\n",
              "      border-radius: 50%;\n",
              "      cursor: pointer;\n",
              "      display: none;\n",
              "      fill: #1967D2;\n",
              "      height: 32px;\n",
              "      padding: 0 0 0 0;\n",
              "      width: 32px;\n",
              "    }\n",
              "\n",
              "    .colab-df-convert:hover {\n",
              "      background-color: #E2EBFA;\n",
              "      box-shadow: 0px 1px 2px rgba(60, 64, 67, 0.3), 0px 1px 3px 1px rgba(60, 64, 67, 0.15);\n",
              "      fill: #174EA6;\n",
              "    }\n",
              "\n",
              "    [theme=dark] .colab-df-convert {\n",
              "      background-color: #3B4455;\n",
              "      fill: #D2E3FC;\n",
              "    }\n",
              "\n",
              "    [theme=dark] .colab-df-convert:hover {\n",
              "      background-color: #434B5C;\n",
              "      box-shadow: 0px 1px 3px 1px rgba(0, 0, 0, 0.15);\n",
              "      filter: drop-shadow(0px 1px 2px rgba(0, 0, 0, 0.3));\n",
              "      fill: #FFFFFF;\n",
              "    }\n",
              "  </style>\n",
              "\n",
              "      <script>\n",
              "        const buttonEl =\n",
              "          document.querySelector('#df-0fe20d26-2dae-4c98-b002-1c8c26ef922a button.colab-df-convert');\n",
              "        buttonEl.style.display =\n",
              "          google.colab.kernel.accessAllowed ? 'block' : 'none';\n",
              "\n",
              "        async function convertToInteractive(key) {\n",
              "          const element = document.querySelector('#df-0fe20d26-2dae-4c98-b002-1c8c26ef922a');\n",
              "          const dataTable =\n",
              "            await google.colab.kernel.invokeFunction('convertToInteractive',\n",
              "                                                     [key], {});\n",
              "          if (!dataTable) return;\n",
              "\n",
              "          const docLinkHtml = 'Like what you see? Visit the ' +\n",
              "            '<a target=\"_blank\" href=https://colab.research.google.com/notebooks/data_table.ipynb>data table notebook</a>'\n",
              "            + ' to learn more about interactive tables.';\n",
              "          element.innerHTML = '';\n",
              "          dataTable['output_type'] = 'display_data';\n",
              "          await google.colab.output.renderOutput(dataTable, element);\n",
              "          const docLink = document.createElement('div');\n",
              "          docLink.innerHTML = docLinkHtml;\n",
              "          element.appendChild(docLink);\n",
              "        }\n",
              "      </script>\n",
              "    </div>\n",
              "  </div>\n",
              "  "
            ],
            "text/plain": [
              "     66.0  0.0  1.0  150.0  226.0  0.0.1  ...  0.0.3  2.6  3.0  0.0.4  3.0.1  1\n",
              "77   70.0  1.0  4.0  145.0  174.0    0.0  ...    1.0  2.6  3.0    0.0    7.0  2\n",
              "135  42.0  1.0  3.0  120.0  240.0    1.0  ...    0.0  0.8  3.0    0.0    7.0  1\n",
              "59   37.0  1.0  3.0  130.0  250.0    0.0  ...    0.0  3.5  3.0    0.0    3.0  1\n",
              "201  51.0  1.0  3.0  100.0  222.0    0.0  ...    1.0  1.2  2.0    0.0    3.0  1\n",
              "62   41.0  1.0  4.0  110.0  172.0    0.0  ...    0.0  0.0  1.0    0.0    7.0  2\n",
              "..    ...  ...  ...    ...    ...    ...  ...    ...  ...  ...    ...    ... ..\n",
              "85   52.0  1.0  4.0  125.0  212.0    0.0  ...    0.0  1.0  1.0    2.0    7.0  2\n",
              "18   71.0  0.0  3.0  110.0  265.0    1.0  ...    0.0  0.0  1.0    1.0    3.0  1\n",
              "84   53.0  1.0  4.0  123.0  282.0    0.0  ...    1.0  2.0  2.0    2.0    7.0  2\n",
              "55   58.0  1.0  3.0  140.0  211.0    1.0  ...    0.0  0.0  1.0    0.0    3.0  1\n",
              "87   54.0  1.0  2.0  192.0  283.0    0.0  ...    0.0  0.0  1.0    1.0    7.0  2\n",
              "\n",
              "[215 rows x 14 columns]"
            ]
          },
          "metadata": {},
          "execution_count": 43
        }
      ]
    },
    {
      "cell_type": "code",
      "source": [
        "x = df.iloc[:,range(13)]\n",
        "y = df.iloc[:,[13]]\n",
        "x = x.values\n",
        "y = y.values\n",
        "\n",
        "# encoding the target\n",
        "from tensorflow.keras.utils import to_categorical\n",
        "y = to_categorical(y)\n",
        "print(y.shape)\n",
        "\n",
        "# separate the data into 4 categories: train (with x and y) and test (with x and y)\n",
        "from sklearn.model_selection import train_test_split\n",
        "x_train, x_test, y_train, y_test = train_test_split(x, y, test_size=0.10, random_state=1, stratify=y)"
      ],
      "metadata": {
        "id": "xaPp6wDUjlUX",
        "colab": {
          "base_uri": "https://localhost:8080/"
        },
        "outputId": "d8d21903-122d-46e6-81d6-4716345d9a59"
      },
      "execution_count": 82,
      "outputs": [
        {
          "output_type": "stream",
          "name": "stdout",
          "text": [
            "(215, 3)\n"
          ]
        }
      ]
    },
    {
      "cell_type": "code",
      "source": [
        "# I tried to scale but it wasn't necessary\n",
        "#scaler = preprocessing.StandardScaler().fit(x_train)\n",
        "#x_train = scaler.transform(x_train)"
      ],
      "metadata": {
        "id": "GmiJ1CJgIAXE"
      },
      "execution_count": 79,
      "outputs": []
    },
    {
      "cell_type": "markdown",
      "source": [
        "Result >0 : relu, between 0 and 1 : sigmoid, tanh for binary classification \n",
        "\n",
        "Softmax is for the output : we have 1 output equal to 1 and all of the others to 0\n",
        "\n",
        "For relu we use the kernel_initializer he_uniform but for sigmoid or tanh we use glorot\n",
        "\n",
        "kernel initializer initialize the weights for connexions in our neural network at the beginning"
      ],
      "metadata": {
        "id": "oAzOyPeewhyK"
      }
    },
    {
      "cell_type": "code",
      "source": [
        "#define network\n",
        "# in the first place, since it's a binary problem, I tried with the activation tanh and the glorot kernel_initializer \n",
        "#kernel_initializer=keras.initializers.glorot_uniform()\n",
        "# but I had a better result with relu and he_uniform\n",
        "# I added the layers dropout to prevent the overfitting, for the same reason I added kernel_regularizers\n",
        "model = keras.Sequential([\n",
        "    keras.layers.Dense(40, input_dim=13, activation='relu', kernel_initializer='he_uniform',kernel_regularizer= keras.regularizers.l2(0.0005)),\n",
        "    keras.layers.BatchNormalization(),keras.layers.Dropout(0.2),\n",
        "    keras.layers.Dense(6, input_dim=11, activation='relu', kernel_initializer='he_uniform',kernel_regularizer= keras.regularizers.l2(0.0005)),\n",
        "    keras.layers.BatchNormalization(),keras.layers.Dropout(0.2),\n",
        "    keras.layers.Dense(3, activation='softmax')\n",
        "])"
      ],
      "metadata": {
        "id": "JQhMrhjFuNrj"
      },
      "execution_count": 104,
      "outputs": []
    },
    {
      "cell_type": "code",
      "source": [
        "# create learning curves for different learning rates\n",
        "learning_rates = [1E-0, 1E-1, 1E-2, 1E-3, 1E-4, 1E-5, 1E-6, 1E-7]\n",
        "for i in range(len(learning_rates)):\n",
        "\t# determine the plot number\n",
        "\tplot_no = 420 + (i+1)\n",
        "\tplt.subplot(plot_no)\n",
        "\t# fit model and plot learning curves for a learning rate\n",
        "\tfit_model(x_train, y_train, x_test, y_test, learning_rates[i])\n",
        "\t# show learning curves\n",
        "\tplt.legend()\n",
        "\tplt.show()\n",
        " \n",
        " # We can see that the lrate is good for 0.01, 0.0001 and 1e-06\n",
        " # therefore I choose lrate = 0.01"
      ],
      "metadata": {
        "colab": {
          "base_uri": "https://localhost:8080/",
          "height": 745
        },
        "id": "ylQ6mvxkI4ew",
        "outputId": "014149f8-0a12-4c1f-c407-f8f259924998"
      },
      "execution_count": 123,
      "outputs": [
        {
          "output_type": "display_data",
          "data": {
            "image/png": "[encoded data removed]",
            "text/plain": [
              "<Figure size 432x288 with 1 Axes>"
            ]
          },
          "metadata": {
            "needs_background": "light"
          }
        },
        {
          "output_type": "display_data",
          "data": {
            "image/png": "[encoded data removed]",
            "text/plain": [
              "<Figure size 432x288 with 1 Axes>"
            ]
          },
          "metadata": {
            "needs_background": "light"
          }
        },
        {
          "output_type": "display_data",
          "data": {
            "image/png": "[encoded data removed]",
            "text/plain": [
              "<Figure size 432x288 with 1 Axes>"
            ]
          },
          "metadata": {
            "needs_background": "light"
          }
        },
        {
          "output_type": "display_data",
          "data": {
            "image/png": "[encoded data removed]",
            "text/plain": [
              "<Figure size 432x288 with 1 Axes>"
            ]
          },
          "metadata": {
            "needs_background": "light"
          }
        },
        {
          "output_type": "display_data",
          "data": {
            "image/png": "[encoded data removed]",
            "text/plain": [
              "<Figure size 432x288 with 1 Axes>"
            ]
          },
          "metadata": {
            "needs_background": "light"
          }
        },
        {
          "output_type": "display_data",
          "data": {
            "image/png": "[encoded data removed]",
            "text/plain": [
              "<Figure size 432x288 with 1 Axes>"
            ]
          },
          "metadata": {
            "needs_background": "light"
          }
        },
        {
          "output_type": "display_data",
          "data": {
            "image/png": "[encoded data removed]",
            "text/plain": [
              "<Figure size 432x288 with 1 Axes>"
            ]
          },
          "metadata": {
            "needs_background": "light"
          }
        },
        {
          "output_type": "display_data",
          "data": {
            "image/png": "[encoded data removed]",
            "text/plain": [
              "<Figure size 432x288 with 1 Axes>"
            ]
          },
          "metadata": {
            "needs_background": "light"
          }
        }
      ]
    },
    {
      "cell_type": "code",
      "source": [
        "# fit a model and plot learning curve\n",
        "def fit_model(trainX, trainy, testX, testy, lrate):\n",
        "  # define model\n",
        "  model = keras.Sequential([\n",
        "      keras.layers.Dense(40, input_dim=13, activation='relu', kernel_initializer='he_uniform',kernel_regularizer= keras.regularizers.l2(0.0005)),\n",
        "      keras.layers.BatchNormalization(),keras.layers.Dropout(0.2),\n",
        "      keras.layers.Dense(6, input_dim=11, activation='relu', kernel_initializer='he_uniform',kernel_regularizer= keras.regularizers.l2(0.0005)),\n",
        "      keras.layers.BatchNormalization(),keras.layers.Dropout(0.2),\n",
        "      keras.layers.Dense(3, activation='softmax')\n",
        "  ])\n",
        "  # compile model\n",
        "  model.compile(loss='categorical_crossentropy', optimizer= 'adam', metrics=['accuracy'])\n",
        "  # fit model\n",
        "  history = model.fit(trainX, trainy, validation_data=(testX, testy), epochs=200, verbose=0)\n",
        "\n",
        "  plt.plot(smooth_curve(history.history['loss']), label='train')\n",
        "  plt.plot(smooth_curve(history.history['val_loss']), label='test')\n",
        "  plt.title('lrate='+str(lrate), pad=-50)"
      ],
      "metadata": {
        "id": "iQ7i4yJPJLhS"
      },
      "execution_count": 122,
      "outputs": []
    },
    {
      "cell_type": "code",
      "source": [
        "def smooth_curve(points, factor=0.9):\n",
        "  smoothed_points = []\n",
        "  for point in points:\n",
        "    if smoothed_points:\n",
        "      previous = smoothed_points[-1]\n",
        "      smoothed_points.append(previous * factor + point * (1 - factor))\n",
        "    else:\n",
        "      smoothed_points.append(point)\n",
        "  return smoothed_points"
      ],
      "metadata": {
        "id": "SvwD2oG_Ja-6"
      },
      "execution_count": 27,
      "outputs": []
    },
    {
      "cell_type": "code",
      "source": [
        "es = EarlyStopping(monitor='val_accuracy', mode='auto', verbose=0,patience=150)\n",
        "mc = ModelCheckpoint('best_model.h5', monitor='val_accuracy', mode='max', verbose=1, save_best_only=True)\n",
        "lrate = 0.01\n",
        "# I tried with this optimizer first but adam was better : \n",
        "#keras.optimizers.SGD(learning_rate= lrate)\n",
        "model.compile(loss='categorical_crossentropy', optimizer='adam', metrics=['accuracy'])\n",
        "history = model.fit(x_train, y_train, validation_data=(x_test, y_test), epochs=1800, verbose=0,callbacks=[es, mc])\n",
        "\n",
        "saved_model = load_model('best_model.h5')"
      ],
      "metadata": {
        "colab": {
          "base_uri": "https://localhost:8080/"
        },
        "id": "yZZ4zpUPE9dI",
        "outputId": "ae6549ea-a9a3-4129-a6eb-0a689f0395b6"
      },
      "execution_count": 125,
      "outputs": [
        {
          "output_type": "stream",
          "name": "stdout",
          "text": [
            "\n",
            "Epoch 1: val_accuracy improved from -inf to 0.50000, saving model to best_model.h5\n",
            "\n",
            "Epoch 2: val_accuracy did not improve from 0.50000\n",
            "\n",
            "Epoch 3: val_accuracy improved from 0.50000 to 0.63636, saving model to best_model.h5\n",
            "\n",
            "Epoch 4: val_accuracy improved from 0.63636 to 0.68182, saving model to best_model.h5\n",
            "\n",
            "Epoch 5: val_accuracy did not improve from 0.68182\n",
            "\n",
            "Epoch 6: val_accuracy did not improve from 0.68182\n",
            "\n",
            "Epoch 7: val_accuracy did not improve from 0.68182\n",
            "\n",
            "Epoch 8: val_accuracy did not improve from 0.68182\n",
            "\n",
            "Epoch 9: val_accuracy did not improve from 0.68182\n",
            "\n",
            "Epoch 10: val_accuracy improved from 0.68182 to 0.77273, saving model to best_model.h5\n",
            "\n",
            "Epoch 11: val_accuracy did not improve from 0.77273\n",
            "\n",
            "Epoch 12: val_accuracy did not improve from 0.77273\n",
            "\n",
            "Epoch 13: val_accuracy did not improve from 0.77273\n",
            "\n",
            "Epoch 14: val_accuracy did not improve from 0.77273\n",
            "\n",
            "Epoch 15: val_accuracy improved from 0.77273 to 0.81818, saving model to best_model.h5\n",
            "\n",
            "Epoch 16: val_accuracy did not improve from 0.81818\n",
            "\n",
            "Epoch 17: val_accuracy did not improve from 0.81818\n",
            "\n",
            "Epoch 18: val_accuracy did not improve from 0.81818\n",
            "\n",
            "Epoch 19: val_accuracy did not improve from 0.81818\n",
            "\n",
            "Epoch 20: val_accuracy did not improve from 0.81818\n",
            "\n",
            "Epoch 21: val_accuracy did not improve from 0.81818\n",
            "\n",
            "Epoch 22: val_accuracy did not improve from 0.81818\n",
            "\n",
            "Epoch 23: val_accuracy did not improve from 0.81818\n",
            "\n",
            "Epoch 24: val_accuracy did not improve from 0.81818\n",
            "\n",
            "Epoch 25: val_accuracy did not improve from 0.81818\n",
            "\n",
            "Epoch 26: val_accuracy did not improve from 0.81818\n",
            "\n",
            "Epoch 27: val_accuracy did not improve from 0.81818\n",
            "\n",
            "Epoch 28: val_accuracy did not improve from 0.81818\n",
            "\n",
            "Epoch 29: val_accuracy improved from 0.81818 to 0.86364, saving model to best_model.h5\n",
            "\n",
            "Epoch 30: val_accuracy did not improve from 0.86364\n",
            "\n",
            "Epoch 31: val_accuracy did not improve from 0.86364\n",
            "\n",
            "Epoch 32: val_accuracy did not improve from 0.86364\n",
            "\n",
            "Epoch 33: val_accuracy did not improve from 0.86364\n",
            "\n",
            "Epoch 34: val_accuracy did not improve from 0.86364\n",
            "\n",
            "Epoch 35: val_accuracy did not improve from 0.86364\n",
            "\n",
            "Epoch 36: val_accuracy did not improve from 0.86364\n",
            "\n",
            "Epoch 37: val_accuracy did not improve from 0.86364\n",
            "\n",
            "Epoch 38: val_accuracy did not improve from 0.86364\n",
            "\n",
            "Epoch 39: val_accuracy did not improve from 0.86364\n",
            "\n",
            "Epoch 40: val_accuracy did not improve from 0.86364\n",
            "\n",
            "Epoch 41: val_accuracy did not improve from 0.86364\n",
            "\n",
            "Epoch 42: val_accuracy did not improve from 0.86364\n",
            "\n",
            "Epoch 43: val_accuracy did not improve from 0.86364\n",
            "\n",
            "Epoch 44: val_accuracy did not improve from 0.86364\n",
            "\n",
            "Epoch 45: val_accuracy did not improve from 0.86364\n",
            "\n",
            "Epoch 46: val_accuracy did not improve from 0.86364\n",
            "\n",
            "Epoch 47: val_accuracy did not improve from 0.86364\n",
            "\n",
            "Epoch 48: val_accuracy did not improve from 0.86364\n",
            "\n",
            "Epoch 49: val_accuracy did not improve from 0.86364\n",
            "\n",
            "Epoch 50: val_accuracy did not improve from 0.86364\n",
            "\n",
            "Epoch 51: val_accuracy did not improve from 0.86364\n",
            "\n",
            "Epoch 52: val_accuracy did not improve from 0.86364\n",
            "\n",
            "Epoch 53: val_accuracy did not improve from 0.86364\n",
            "\n",
            "Epoch 54: val_accuracy did not improve from 0.86364\n",
            "\n",
            "Epoch 55: val_accuracy did not improve from 0.86364\n",
            "\n",
            "Epoch 56: val_accuracy did not improve from 0.86364\n",
            "\n",
            "Epoch 57: val_accuracy did not improve from 0.86364\n",
            "\n",
            "Epoch 58: val_accuracy did not improve from 0.86364\n",
            "\n",
            "Epoch 59: val_accuracy did not improve from 0.86364\n",
            "\n",
            "Epoch 60: val_accuracy did not improve from 0.86364\n",
            "\n",
            "Epoch 61: val_accuracy did not improve from 0.86364\n",
            "\n",
            "Epoch 62: val_accuracy did not improve from 0.86364\n",
            "\n",
            "Epoch 63: val_accuracy did not improve from 0.86364\n",
            "\n",
            "Epoch 64: val_accuracy did not improve from 0.86364\n",
            "\n",
            "Epoch 65: val_accuracy did not improve from 0.86364\n",
            "\n",
            "Epoch 66: val_accuracy did not improve from 0.86364\n",
            "\n",
            "Epoch 67: val_accuracy did not improve from 0.86364\n",
            "\n",
            "Epoch 68: val_accuracy did not improve from 0.86364\n",
            "\n",
            "Epoch 69: val_accuracy did not improve from 0.86364\n",
            "\n",
            "Epoch 70: val_accuracy did not improve from 0.86364\n",
            "\n",
            "Epoch 71: val_accuracy did not improve from 0.86364\n",
            "\n",
            "Epoch 72: val_accuracy did not improve from 0.86364\n",
            "\n",
            "Epoch 73: val_accuracy did not improve from 0.86364\n",
            "\n",
            "Epoch 74: val_accuracy did not improve from 0.86364\n",
            "\n",
            "Epoch 75: val_accuracy did not improve from 0.86364\n",
            "\n",
            "Epoch 76: val_accuracy did not improve from 0.86364\n",
            "\n",
            "Epoch 77: val_accuracy did not improve from 0.86364\n",
            "\n",
            "Epoch 78: val_accuracy did not improve from 0.86364\n",
            "\n",
            "Epoch 79: val_accuracy did not improve from 0.86364\n",
            "\n",
            "Epoch 80: val_accuracy did not improve from 0.86364\n",
            "\n",
            "Epoch 81: val_accuracy did not improve from 0.86364\n",
            "\n",
            "Epoch 82: val_accuracy did not improve from 0.86364\n",
            "\n",
            "Epoch 83: val_accuracy did not improve from 0.86364\n",
            "\n",
            "Epoch 84: val_accuracy did not improve from 0.86364\n",
            "\n",
            "Epoch 85: val_accuracy did not improve from 0.86364\n",
            "\n",
            "Epoch 86: val_accuracy did not improve from 0.86364\n",
            "\n",
            "Epoch 87: val_accuracy did not improve from 0.86364\n",
            "\n",
            "Epoch 88: val_accuracy did not improve from 0.86364\n",
            "\n",
            "Epoch 89: val_accuracy did not improve from 0.86364\n",
            "\n",
            "Epoch 90: val_accuracy did not improve from 0.86364\n",
            "\n",
            "Epoch 91: val_accuracy did not improve from 0.86364\n",
            "\n",
            "Epoch 92: val_accuracy did not improve from 0.86364\n",
            "\n",
            "Epoch 93: val_accuracy did not improve from 0.86364\n",
            "\n",
            "Epoch 94: val_accuracy did not improve from 0.86364\n",
            "\n",
            "Epoch 95: val_accuracy did not improve from 0.86364\n",
            "\n",
            "Epoch 96: val_accuracy did not improve from 0.86364\n",
            "\n",
            "Epoch 97: val_accuracy did not improve from 0.86364\n",
            "\n",
            "Epoch 98: val_accuracy did not improve from 0.86364\n",
            "\n",
            "Epoch 99: val_accuracy did not improve from 0.86364\n",
            "\n",
            "Epoch 100: val_accuracy did not improve from 0.86364\n",
            "\n",
            "Epoch 101: val_accuracy did not improve from 0.86364\n",
            "\n",
            "Epoch 102: val_accuracy did not improve from 0.86364\n",
            "\n",
            "Epoch 103: val_accuracy did not improve from 0.86364\n",
            "\n",
            "Epoch 104: val_accuracy did not improve from 0.86364\n",
            "\n",
            "Epoch 105: val_accuracy did not improve from 0.86364\n",
            "\n",
            "Epoch 106: val_accuracy did not improve from 0.86364\n",
            "\n",
            "Epoch 107: val_accuracy did not improve from 0.86364\n",
            "\n",
            "Epoch 108: val_accuracy did not improve from 0.86364\n",
            "\n",
            "Epoch 109: val_accuracy did not improve from 0.86364\n",
            "\n",
            "Epoch 110: val_accuracy did not improve from 0.86364\n",
            "\n",
            "Epoch 111: val_accuracy did not improve from 0.86364\n",
            "\n",
            "Epoch 112: val_accuracy did not improve from 0.86364\n",
            "\n",
            "Epoch 113: val_accuracy did not improve from 0.86364\n",
            "\n",
            "Epoch 114: val_accuracy did not improve from 0.86364\n",
            "\n",
            "Epoch 115: val_accuracy did not improve from 0.86364\n",
            "\n",
            "Epoch 116: val_accuracy did not improve from 0.86364\n",
            "\n",
            "Epoch 117: val_accuracy did not improve from 0.86364\n",
            "\n",
            "Epoch 118: val_accuracy did not improve from 0.86364\n",
            "\n",
            "Epoch 119: val_accuracy did not improve from 0.86364\n",
            "\n",
            "Epoch 120: val_accuracy did not improve from 0.86364\n",
            "\n",
            "Epoch 121: val_accuracy did not improve from 0.86364\n",
            "\n",
            "Epoch 122: val_accuracy did not improve from 0.86364\n",
            "\n",
            "Epoch 123: val_accuracy did not improve from 0.86364\n",
            "\n",
            "Epoch 124: val_accuracy did not improve from 0.86364\n",
            "\n",
            "Epoch 125: val_accuracy did not improve from 0.86364\n",
            "\n",
            "Epoch 126: val_accuracy did not improve from 0.86364\n",
            "\n",
            "Epoch 127: val_accuracy did not improve from 0.86364\n",
            "\n",
            "Epoch 128: val_accuracy did not improve from 0.86364\n",
            "\n",
            "Epoch 129: val_accuracy did not improve from 0.86364\n",
            "\n",
            "Epoch 130: val_accuracy did not improve from 0.86364\n",
            "\n",
            "Epoch 131: val_accuracy did not improve from 0.86364\n",
            "\n",
            "Epoch 132: val_accuracy did not improve from 0.86364\n",
            "\n",
            "Epoch 133: val_accuracy did not improve from 0.86364\n",
            "\n",
            "Epoch 134: val_accuracy did not improve from 0.86364\n",
            "\n",
            "Epoch 135: val_accuracy did not improve from 0.86364\n",
            "\n",
            "Epoch 136: val_accuracy did not improve from 0.86364\n",
            "\n",
            "Epoch 137: val_accuracy did not improve from 0.86364\n",
            "\n",
            "Epoch 138: val_accuracy did not improve from 0.86364\n",
            "\n",
            "Epoch 139: val_accuracy did not improve from 0.86364\n",
            "\n",
            "Epoch 140: val_accuracy did not improve from 0.86364\n",
            "\n",
            "Epoch 141: val_accuracy did not improve from 0.86364\n",
            "\n",
            "Epoch 142: val_accuracy did not improve from 0.86364\n",
            "\n",
            "Epoch 143: val_accuracy did not improve from 0.86364\n",
            "\n",
            "Epoch 144: val_accuracy did not improve from 0.86364\n",
            "\n",
            "Epoch 145: val_accuracy did not improve from 0.86364\n",
            "\n",
            "Epoch 146: val_accuracy did not improve from 0.86364\n",
            "\n",
            "Epoch 147: val_accuracy did not improve from 0.86364\n",
            "\n",
            "Epoch 148: val_accuracy did not improve from 0.86364\n",
            "\n",
            "Epoch 149: val_accuracy did not improve from 0.86364\n",
            "\n",
            "Epoch 150: val_accuracy did not improve from 0.86364\n",
            "\n",
            "Epoch 151: val_accuracy did not improve from 0.86364\n",
            "\n",
            "Epoch 152: val_accuracy did not improve from 0.86364\n",
            "\n",
            "Epoch 153: val_accuracy did not improve from 0.86364\n",
            "\n",
            "Epoch 154: val_accuracy did not improve from 0.86364\n",
            "\n",
            "Epoch 155: val_accuracy did not improve from 0.86364\n",
            "\n",
            "Epoch 156: val_accuracy did not improve from 0.86364\n",
            "\n",
            "Epoch 157: val_accuracy did not improve from 0.86364\n",
            "\n",
            "Epoch 158: val_accuracy did not improve from 0.86364\n",
            "\n",
            "Epoch 159: val_accuracy did not improve from 0.86364\n",
            "\n",
            "Epoch 160: val_accuracy did not improve from 0.86364\n",
            "\n",
            "Epoch 161: val_accuracy did not improve from 0.86364\n",
            "\n",
            "Epoch 162: val_accuracy did not improve from 0.86364\n",
            "\n",
            "Epoch 163: val_accuracy did not improve from 0.86364\n",
            "\n",
            "Epoch 164: val_accuracy did not improve from 0.86364\n",
            "\n",
            "Epoch 165: val_accuracy did not improve from 0.86364\n",
            "\n",
            "Epoch 166: val_accuracy did not improve from 0.86364\n",
            "\n",
            "Epoch 167: val_accuracy did not improve from 0.86364\n",
            "\n",
            "Epoch 168: val_accuracy did not improve from 0.86364\n",
            "\n",
            "Epoch 169: val_accuracy did not improve from 0.86364\n",
            "\n",
            "Epoch 170: val_accuracy did not improve from 0.86364\n",
            "\n",
            "Epoch 171: val_accuracy did not improve from 0.86364\n",
            "\n",
            "Epoch 172: val_accuracy did not improve from 0.86364\n",
            "\n",
            "Epoch 173: val_accuracy did not improve from 0.86364\n",
            "\n",
            "Epoch 174: val_accuracy did not improve from 0.86364\n",
            "\n",
            "Epoch 175: val_accuracy did not improve from 0.86364\n",
            "\n",
            "Epoch 176: val_accuracy did not improve from 0.86364\n",
            "\n",
            "Epoch 177: val_accuracy did not improve from 0.86364\n",
            "\n",
            "Epoch 178: val_accuracy did not improve from 0.86364\n",
            "\n",
            "Epoch 179: val_accuracy did not improve from 0.86364\n"
          ]
        }
      ]
    },
    {
      "cell_type": "code",
      "source": [
        "model.summary()"
      ],
      "metadata": {
        "id": "BG3E7LK07LyX",
        "colab": {
          "base_uri": "https://localhost:8080/"
        },
        "outputId": "740438ce-5166-4d21-8d2c-c566bdf281f9"
      },
      "execution_count": 134,
      "outputs": [
        {
          "output_type": "stream",
          "name": "stdout",
          "text": [
            "Model: \"sequential_52\"\n",
            "_________________________________________________________________\n",
            " Layer (type)                Output Shape              Param #   \n",
            "=================================================================\n",
            " dense_121 (Dense)           (None, 40)                560       \n",
            "                                                                 \n",
            " batch_normalization_67 (Bat  (None, 40)               160       \n",
            " chNormalization)                                                \n",
            "                                                                 \n",
            " dropout_2 (Dropout)         (None, 40)                0         \n",
            "                                                                 \n",
            " dense_122 (Dense)           (None, 6)                 246       \n",
            "                                                                 \n",
            " batch_normalization_68 (Bat  (None, 6)                24        \n",
            " chNormalization)                                                \n",
            "                                                                 \n",
            " dropout_3 (Dropout)         (None, 6)                 0         \n",
            "                                                                 \n",
            " dense_123 (Dense)           (None, 3)                 21        \n",
            "                                                                 \n",
            "=================================================================\n",
            "Total params: 1,011\n",
            "Trainable params: 919\n",
            "Non-trainable params: 92\n",
            "_________________________________________________________________\n"
          ]
        }
      ]
    },
    {
      "cell_type": "code",
      "source": [
        "#test accuracy and loss\n",
        "test_loss, test_acc = saved_model.evaluate(x_test, y_test, verbose=2)\n",
        "print(test_loss, test_acc)"
      ],
      "metadata": {
        "id": "rgvWrp-U7WUR",
        "colab": {
          "base_uri": "https://localhost:8080/"
        },
        "outputId": "3b32d142-4ebf-4f13-9a71-e35fa2ecd50b"
      },
      "execution_count": 135,
      "outputs": [
        {
          "output_type": "stream",
          "name": "stdout",
          "text": [
            "1/1 - 0s - loss: 0.4619 - accuracy: 0.8636 - 26ms/epoch - 26ms/step\n",
            "0.46186578273773193 0.8636363744735718\n"
          ]
        }
      ]
    },
    {
      "cell_type": "code",
      "source": [
        "#test accuracy and loss\n",
        "_, train_acc = saved_model.evaluate(x_train, y_train, verbose=0)\n",
        "_, test_acc = saved_model.evaluate(x_test, y_test, verbose=0)\n",
        "print('Train: %.4f, Test: %.4f' % (train_acc, test_acc))"
      ],
      "metadata": {
        "id": "S5cNmWZx7WnZ",
        "colab": {
          "base_uri": "https://localhost:8080/"
        },
        "outputId": "6ffcb212-c63a-4a3a-b539-55beb0d498ec"
      },
      "execution_count": 136,
      "outputs": [
        {
          "output_type": "stream",
          "name": "stdout",
          "text": [
            "Train: 0.8756, Test: 0.8636\n"
          ]
        }
      ]
    },
    {
      "cell_type": "code",
      "source": [
        "predictions = saved_model.predict(x_test)\n",
        "predictions[1]\n",
        "\n",
        "print(np.argmax(predictions[1]))\n",
        "print(y_test[1])"
      ],
      "metadata": {
        "id": "rv-FZJ4y7YUM",
        "colab": {
          "base_uri": "https://localhost:8080/"
        },
        "outputId": "9e2c60f1-d284-43de-d42c-753d91ebc2f0"
      },
      "execution_count": 137,
      "outputs": [
        {
          "output_type": "stream",
          "name": "stdout",
          "text": [
            "1\n",
            "[0. 1. 0.]\n"
          ]
        }
      ]
    },
    {
      "cell_type": "code",
      "source": [
        "print(history.history.keys())\n",
        "print(saved_model.summary())"
      ],
      "metadata": {
        "id": "x5-2S3AU7nGE",
        "colab": {
          "base_uri": "https://localhost:8080/"
        },
        "outputId": "e7fd6591-fda1-434d-c162-98a9df7a20ac"
      },
      "execution_count": 138,
      "outputs": [
        {
          "output_type": "stream",
          "name": "stdout",
          "text": [
            "dict_keys(['loss', 'accuracy', 'val_loss', 'val_accuracy'])\n",
            "Model: \"sequential_52\"\n",
            "_________________________________________________________________\n",
            " Layer (type)                Output Shape              Param #   \n",
            "=================================================================\n",
            " dense_121 (Dense)           (None, 40)                560       \n",
            "                                                                 \n",
            " batch_normalization_67 (Bat  (None, 40)               160       \n",
            " chNormalization)                                                \n",
            "                                                                 \n",
            " dropout_2 (Dropout)         (None, 40)                0         \n",
            "                                                                 \n",
            " dense_122 (Dense)           (None, 6)                 246       \n",
            "                                                                 \n",
            " batch_normalization_68 (Bat  (None, 6)                24        \n",
            " chNormalization)                                                \n",
            "                                                                 \n",
            " dropout_3 (Dropout)         (None, 6)                 0         \n",
            "                                                                 \n",
            " dense_123 (Dense)           (None, 3)                 21        \n",
            "                                                                 \n",
            "=================================================================\n",
            "Total params: 1,011\n",
            "Trainable params: 919\n",
            "Non-trainable params: 92\n",
            "_________________________________________________________________\n",
            "None\n"
          ]
        }
      ]
    },
    {
      "cell_type": "code",
      "source": [
        "plt.plot(history.history['accuracy'])\n",
        "plt.plot(history.history['val_accuracy'])\n",
        "plt.xlabel('Epochs')\n",
        "plt.ylabel('Accuracy (fractional)')\n",
        "plt.legend(['training accuracy', 'validation accuracy'], loc='best')\n",
        "\n",
        "# We can see that the model is learning without overfitting"
      ],
      "metadata": {
        "id": "Cn7YnIgd7opi",
        "colab": {
          "base_uri": "https://localhost:8080/",
          "height": 297
        },
        "outputId": "8ccfbb1e-ad85-4b47-cf56-7c28bf9a6522"
      },
      "execution_count": 130,
      "outputs": [
        {
          "output_type": "execute_result",
          "data": {
            "text/plain": [
              "<matplotlib.legend.Legend at 0x7f321c43f290>"
            ]
          },
          "metadata": {},
          "execution_count": 130
        },
        {
          "output_type": "display_data",
          "data": {
            "image/png": "[encoded data removed]",
            "text/plain": [
              "<Figure size 432x288 with 1 Axes>"
            ]
          },
          "metadata": {
            "needs_background": "light"
          }
        }
      ]
    },
    {
      "cell_type": "code",
      "source": [
        "plt.figure()\n",
        "plt.plot(history.history['loss'])\n",
        "plt.plot(history.history['val_loss'])\n",
        "plt.xlabel('Epochs')\n",
        "plt.ylabel('loss')\n",
        "plt.legend(['training loss', 'validation loss'], loc='best')\n",
        "\n",
        "# The curves are getting closer so there is no overfitting"
      ],
      "metadata": {
        "id": "Ta5yqqFH7zl3",
        "colab": {
          "base_uri": "https://localhost:8080/",
          "height": 297
        },
        "outputId": "3dff9d55-9004-4d85-d448-1daa149a7c48"
      },
      "execution_count": 131,
      "outputs": [
        {
          "output_type": "execute_result",
          "data": {
            "text/plain": [
              "<matplotlib.legend.Legend at 0x7f321c66a1d0>"
            ]
          },
          "metadata": {},
          "execution_count": 131
        },
        {
          "output_type": "display_data",
          "data": {
            "image/png": "[encoded data removed]",
            "text/plain": [
              "<Figure size 432x288 with 1 Axes>"
            ]
          },
          "metadata": {
            "needs_background": "light"
          }
        }
      ]
    },
    {
      "cell_type": "code",
      "source": [
        "plt.plot(smooth_curve(history.history['accuracy']), label='train')\n",
        "plt.plot(smooth_curve(history.history['val_accuracy']), label='test')\n",
        "plt.legend()\n",
        "\n",
        "# We can see that the accuracy of the test curve increase with the epochs, it's getting closer to the train curve"
      ],
      "metadata": {
        "colab": {
          "base_uri": "https://localhost:8080/",
          "height": 283
        },
        "id": "uIkWekn5fqE3",
        "outputId": "b3d2568a-f3db-467d-ab6b-79e11cfc7b5d"
      },
      "execution_count": 132,
      "outputs": [
        {
          "output_type": "execute_result",
          "data": {
            "text/plain": [
              "<matplotlib.legend.Legend at 0x7f321c0f0150>"
            ]
          },
          "metadata": {},
          "execution_count": 132
        },
        {
          "output_type": "display_data",
          "data": {
            "image/png": "[encoded data removed]",
            "text/plain": [
              "<Figure size 432x288 with 1 Axes>"
            ]
          },
          "metadata": {
            "needs_background": "light"
          }
        }
      ]
    },
    {
      "cell_type": "code",
      "source": [
        "uploaded2 = files.upload()\n",
        "df_test = pd.read_csv('heart_test.txt', sep=' ')"
      ],
      "metadata": {
        "id": "ktpWSeSrUlL7"
      },
      "execution_count": 98,
      "outputs": []
    },
    {
      "cell_type": "code",
      "source": [
        "df_test = sklearn.utils.shuffle(df_test)"
      ],
      "metadata": {
        "id": "IoLWFI_nWqGt"
      },
      "execution_count": 99,
      "outputs": []
    },
    {
      "cell_type": "code",
      "source": [
        "testx = df_test.iloc[:,range(13)]\n",
        "testy = df_test.iloc[:,[13]]\n",
        "testx = testx.values\n",
        "testy = testy.values\n",
        "testy = to_categorical(testy)\n",
        "print(testy.shape)"
      ],
      "metadata": {
        "colab": {
          "base_uri": "https://localhost:8080/"
        },
        "id": "rnFH1gKYWsEy",
        "outputId": "0c0149b9-b261-4b39-d583-a05fa7766564"
      },
      "execution_count": 100,
      "outputs": [
        {
          "output_type": "stream",
          "name": "stdout",
          "text": [
            "(53, 3)\n"
          ]
        }
      ]
    },
    {
      "cell_type": "code",
      "source": [
        "_, test_acc = saved_model.evaluate(testx, testy, verbose=0)\n",
        "print('Test: %.4f' % (test_acc))\n",
        "# 88.68% of the heart_test was predicted correctly (with 0,0,1 if the value is 2 (presence of heart disease) or 0,1,0 if the value is 1 (no heart disease))"
      ],
      "metadata": {
        "colab": {
          "base_uri": "https://localhost:8080/"
        },
        "id": "ZqgDNDyKXn8S",
        "outputId": "b9f6fd4a-6abc-404a-8d44-953d88bc97b1"
      },
      "execution_count": 133,
      "outputs": [
        {
          "output_type": "stream",
          "name": "stdout",
          "text": [
            "Test: 0.8868\n"
          ]
        }
      ]
    },
    {
      "cell_type": "markdown",
      "source": [
        "Final accuracy for heart_test.txt : 88.68%"
      ],
      "metadata": {
        "id": "sO0bVpn8iKy3"
      }
    }
  ]
}